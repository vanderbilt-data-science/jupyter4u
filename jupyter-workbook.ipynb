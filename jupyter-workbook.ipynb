{
 "cells": [
  {
   "cell_type": "markdown",
   "metadata": {},
   "source": [
    "# Making Jupyter Notebooks Work for You\n",
    "> A short worksheet\n",
    "\n",
    "In this repo, we briefly explore 2 of the 3 topics presented on helping Jupyter notebooks work for you.\n",
    "\n",
    "# Software development practice\n",
    "## Example 1: Find the error\n",
    "Although we wouldn't normally take this approach in practice, our objective here is to perform normalization on some of the colums of our dataframe.  This is for demonstrative purposes only.  Our approach might be to test the general steps on a single column and then try this on multiple columns.  Let's see how that works.\n",
    "\n",
    "### Normalize a single column"
   ]
  },
  {
   "cell_type": "code",
   "execution_count": null,
   "metadata": {},
   "outputs": [],
   "source": [
    "import pandas as pd"
   ]
  },
  {
   "cell_type": "code",
   "execution_count": null,
   "metadata": {},
   "outputs": [],
   "source": [
    "#read data and drop rows with NA\n",
    "data = pd.read_csv('https://raw.githubusercontent.com/allisonhorst/palmerpenguins/master/inst/extdata/penguins.csv')\n",
    "data = data.dropna().reset_index(drop=True)\n",
    "data"
   ]
  },
  {
   "cell_type": "markdown",
   "metadata": {},
   "source": [
    "### Generalize to other columns"
   ]
  },
  {
   "cell_type": "markdown",
   "metadata": {},
   "source": [
    "## On your own\n",
    "1.  Identify potential problems with this setup.\n",
    "2.  How do you fix this?"
   ]
  },
  {
   "cell_type": "markdown",
   "metadata": {},
   "source": [
    "## Problems and solutions"
   ]
  },
  {
   "cell_type": "code",
   "execution_count": null,
   "metadata": {},
   "outputs": [],
   "source": []
  },
  {
   "cell_type": "markdown",
   "metadata": {},
   "source": [
    "# nbdev practice\n",
    "This is relatively involved and something we can't really try on Colab quite yet.  We'll do a brief walkthrough for interested parties at the end if time allows to determine what future steps can be taken.  Otherwise, see this nbdev tutorial for more information on how to get started: https://nbdev.fast.ai/tutorial.html"
   ]
  },
  {
   "cell_type": "markdown",
   "metadata": {},
   "source": [
    "# xeus-python debugging kernel\n",
    "You can learn all about the debugging kernel here: https://blog.jupyter.org/a-visual-debugger-for-jupyter-914e61716559 .  In the meantime, let's give the default binder environment a try to see how the debugger can help us!  Here's a direct link to the binder demo: https://mybinder.org/v2/gh/jupyterlab/debugger/stable?urlpath=/lab/tree/examples/index.ipynb"
   ]
  }
 ],
 "metadata": {
  "kernelspec": {
   "display_name": "Python 3",
   "language": "python",
   "name": "python3"
  },
  "language_info": {
   "codemirror_mode": {
    "name": "ipython",
    "version": 3
   },
   "file_extension": ".py",
   "mimetype": "text/x-python",
   "name": "python",
   "nbconvert_exporter": "python",
   "pygments_lexer": "ipython3",
   "version": "3.7.4"
  }
 },
 "nbformat": 4,
 "nbformat_minor": 4
}
